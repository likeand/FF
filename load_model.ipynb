{
 "cells": [
  {
   "cell_type": "code",
   "execution_count": null,
   "metadata": {},
   "outputs": [],
   "source": [
    "## get picie and stego hists\n"
   ]
  },
  {
   "cell_type": "code",
   "execution_count": 5,
   "metadata": {},
   "outputs": [],
   "source": [
    "import torch \n",
    "stego_path = '/home/zhulifu/unsup_seg/STEGO-master/saved_models/cityscapes_vit_base_1.ckpt'\n",
    "picie_path = '/home/zhulifu/unsup_seg/STEGO-master/saved_models/picie_city.tar'"
   ]
  },
  {
   "cell_type": "code",
   "execution_count": 3,
   "metadata": {},
   "outputs": [
    {
     "name": "stdout",
     "output_type": "stream",
     "text": [
      "dict_keys(['epoch', 'global_step', 'pytorch-lightning_version', 'state_dict', 'callbacks', 'optimizer_states', 'lr_schedulers', 'hparams_name', 'hyper_parameters'])\n"
     ]
    }
   ],
   "source": [
    "\n",
    "stego_dict = torch.load(stego_path, map_location='cuda:1')\n",
    "print(stego_dict.keys())\n"
   ]
  },
  {
   "cell_type": "code",
   "execution_count": 4,
   "metadata": {},
   "outputs": [
    {
     "data": {
      "text/plain": [
       "odict_keys(['net.model.cls_token', 'net.model.pos_embed', 'net.model.patch_embed.proj.weight', 'net.model.patch_embed.proj.bias', 'net.model.blocks.0.norm1.weight', 'net.model.blocks.0.norm1.bias', 'net.model.blocks.0.attn.qkv.weight', 'net.model.blocks.0.attn.qkv.bias', 'net.model.blocks.0.attn.proj.weight', 'net.model.blocks.0.attn.proj.bias', 'net.model.blocks.0.norm2.weight', 'net.model.blocks.0.norm2.bias', 'net.model.blocks.0.mlp.fc1.weight', 'net.model.blocks.0.mlp.fc1.bias', 'net.model.blocks.0.mlp.fc2.weight', 'net.model.blocks.0.mlp.fc2.bias', 'net.model.blocks.1.norm1.weight', 'net.model.blocks.1.norm1.bias', 'net.model.blocks.1.attn.qkv.weight', 'net.model.blocks.1.attn.qkv.bias', 'net.model.blocks.1.attn.proj.weight', 'net.model.blocks.1.attn.proj.bias', 'net.model.blocks.1.norm2.weight', 'net.model.blocks.1.norm2.bias', 'net.model.blocks.1.mlp.fc1.weight', 'net.model.blocks.1.mlp.fc1.bias', 'net.model.blocks.1.mlp.fc2.weight', 'net.model.blocks.1.mlp.fc2.bias', 'net.model.blocks.2.norm1.weight', 'net.model.blocks.2.norm1.bias', 'net.model.blocks.2.attn.qkv.weight', 'net.model.blocks.2.attn.qkv.bias', 'net.model.blocks.2.attn.proj.weight', 'net.model.blocks.2.attn.proj.bias', 'net.model.blocks.2.norm2.weight', 'net.model.blocks.2.norm2.bias', 'net.model.blocks.2.mlp.fc1.weight', 'net.model.blocks.2.mlp.fc1.bias', 'net.model.blocks.2.mlp.fc2.weight', 'net.model.blocks.2.mlp.fc2.bias', 'net.model.blocks.3.norm1.weight', 'net.model.blocks.3.norm1.bias', 'net.model.blocks.3.attn.qkv.weight', 'net.model.blocks.3.attn.qkv.bias', 'net.model.blocks.3.attn.proj.weight', 'net.model.blocks.3.attn.proj.bias', 'net.model.blocks.3.norm2.weight', 'net.model.blocks.3.norm2.bias', 'net.model.blocks.3.mlp.fc1.weight', 'net.model.blocks.3.mlp.fc1.bias', 'net.model.blocks.3.mlp.fc2.weight', 'net.model.blocks.3.mlp.fc2.bias', 'net.model.blocks.4.norm1.weight', 'net.model.blocks.4.norm1.bias', 'net.model.blocks.4.attn.qkv.weight', 'net.model.blocks.4.attn.qkv.bias', 'net.model.blocks.4.attn.proj.weight', 'net.model.blocks.4.attn.proj.bias', 'net.model.blocks.4.norm2.weight', 'net.model.blocks.4.norm2.bias', 'net.model.blocks.4.mlp.fc1.weight', 'net.model.blocks.4.mlp.fc1.bias', 'net.model.blocks.4.mlp.fc2.weight', 'net.model.blocks.4.mlp.fc2.bias', 'net.model.blocks.5.norm1.weight', 'net.model.blocks.5.norm1.bias', 'net.model.blocks.5.attn.qkv.weight', 'net.model.blocks.5.attn.qkv.bias', 'net.model.blocks.5.attn.proj.weight', 'net.model.blocks.5.attn.proj.bias', 'net.model.blocks.5.norm2.weight', 'net.model.blocks.5.norm2.bias', 'net.model.blocks.5.mlp.fc1.weight', 'net.model.blocks.5.mlp.fc1.bias', 'net.model.blocks.5.mlp.fc2.weight', 'net.model.blocks.5.mlp.fc2.bias', 'net.model.blocks.6.norm1.weight', 'net.model.blocks.6.norm1.bias', 'net.model.blocks.6.attn.qkv.weight', 'net.model.blocks.6.attn.qkv.bias', 'net.model.blocks.6.attn.proj.weight', 'net.model.blocks.6.attn.proj.bias', 'net.model.blocks.6.norm2.weight', 'net.model.blocks.6.norm2.bias', 'net.model.blocks.6.mlp.fc1.weight', 'net.model.blocks.6.mlp.fc1.bias', 'net.model.blocks.6.mlp.fc2.weight', 'net.model.blocks.6.mlp.fc2.bias', 'net.model.blocks.7.norm1.weight', 'net.model.blocks.7.norm1.bias', 'net.model.blocks.7.attn.qkv.weight', 'net.model.blocks.7.attn.qkv.bias', 'net.model.blocks.7.attn.proj.weight', 'net.model.blocks.7.attn.proj.bias', 'net.model.blocks.7.norm2.weight', 'net.model.blocks.7.norm2.bias', 'net.model.blocks.7.mlp.fc1.weight', 'net.model.blocks.7.mlp.fc1.bias', 'net.model.blocks.7.mlp.fc2.weight', 'net.model.blocks.7.mlp.fc2.bias', 'net.model.blocks.8.norm1.weight', 'net.model.blocks.8.norm1.bias', 'net.model.blocks.8.attn.qkv.weight', 'net.model.blocks.8.attn.qkv.bias', 'net.model.blocks.8.attn.proj.weight', 'net.model.blocks.8.attn.proj.bias', 'net.model.blocks.8.norm2.weight', 'net.model.blocks.8.norm2.bias', 'net.model.blocks.8.mlp.fc1.weight', 'net.model.blocks.8.mlp.fc1.bias', 'net.model.blocks.8.mlp.fc2.weight', 'net.model.blocks.8.mlp.fc2.bias', 'net.model.blocks.9.norm1.weight', 'net.model.blocks.9.norm1.bias', 'net.model.blocks.9.attn.qkv.weight', 'net.model.blocks.9.attn.qkv.bias', 'net.model.blocks.9.attn.proj.weight', 'net.model.blocks.9.attn.proj.bias', 'net.model.blocks.9.norm2.weight', 'net.model.blocks.9.norm2.bias', 'net.model.blocks.9.mlp.fc1.weight', 'net.model.blocks.9.mlp.fc1.bias', 'net.model.blocks.9.mlp.fc2.weight', 'net.model.blocks.9.mlp.fc2.bias', 'net.model.blocks.10.norm1.weight', 'net.model.blocks.10.norm1.bias', 'net.model.blocks.10.attn.qkv.weight', 'net.model.blocks.10.attn.qkv.bias', 'net.model.blocks.10.attn.proj.weight', 'net.model.blocks.10.attn.proj.bias', 'net.model.blocks.10.norm2.weight', 'net.model.blocks.10.norm2.bias', 'net.model.blocks.10.mlp.fc1.weight', 'net.model.blocks.10.mlp.fc1.bias', 'net.model.blocks.10.mlp.fc2.weight', 'net.model.blocks.10.mlp.fc2.bias', 'net.model.blocks.11.norm1.weight', 'net.model.blocks.11.norm1.bias', 'net.model.blocks.11.attn.qkv.weight', 'net.model.blocks.11.attn.qkv.bias', 'net.model.blocks.11.attn.proj.weight', 'net.model.blocks.11.attn.proj.bias', 'net.model.blocks.11.norm2.weight', 'net.model.blocks.11.norm2.bias', 'net.model.blocks.11.mlp.fc1.weight', 'net.model.blocks.11.mlp.fc1.bias', 'net.model.blocks.11.mlp.fc2.weight', 'net.model.blocks.11.mlp.fc2.bias', 'net.model.norm.weight', 'net.model.norm.bias', 'net.cluster1.0.weight', 'net.cluster1.0.bias', 'net.cluster2.0.weight', 'net.cluster2.0.bias', 'net.cluster2.2.weight', 'net.cluster2.2.bias', 'train_cluster_probe.clusters', 'cluster_probe.clusters', 'linear_probe.weight', 'linear_probe.bias', 'decoder.weight', 'decoder.bias'])"
      ]
     },
     "execution_count": 4,
     "metadata": {},
     "output_type": "execute_result"
    }
   ],
   "source": [
    "stego_dict['state_dict'].keys()"
   ]
  },
  {
   "cell_type": "code",
   "execution_count": null,
   "metadata": {},
   "outputs": [],
   "source": [
    "stego_dict['state_dict']['cluster_probe.clusters'].shape"
   ]
  },
  {
   "cell_type": "code",
   "execution_count": null,
   "metadata": {},
   "outputs": [],
   "source": [
    "stego_dict['hyper_parameters']['cfg']"
   ]
  },
  {
   "cell_type": "code",
   "execution_count": 4,
   "metadata": {},
   "outputs": [
    {
     "name": "stdout",
     "output_type": "stream",
     "text": [
      "loaded state dict from /home/zhulifu/unsup_seg/STEGO-master/saved_models/cityscapes_vit_base_1.ckpt\n",
      "Since no pretrained weights have been provided, we load the reference pretrained DINO weights.\n"
     ]
    }
   ],
   "source": [
    "## test \n",
    "from modules import stego\n",
    "import os\n",
    "os.environ['CUDA_VISIBLE_DEVICES'] = '1'\n",
    "model = stego.PanopticFPN(None)\n"
   ]
  },
  {
   "cell_type": "code",
   "execution_count": 6,
   "metadata": {},
   "outputs": [],
   "source": [
    "picie_dict = torch.load(picie_path, map_location='cuda:1')"
   ]
  },
  {
   "cell_type": "code",
   "execution_count": 7,
   "metadata": {},
   "outputs": [
    {
     "data": {
      "text/plain": [
       "dict_keys(['epoch', 'args', 'state_dict', 'classifier1_state_dict', 'classifier2_state_dict', 'optimizer', 'history'])"
      ]
     },
     "execution_count": 7,
     "metadata": {},
     "output_type": "execute_result"
    }
   ],
   "source": [
    "picie_dict.keys()"
   ]
  },
  {
   "cell_type": "code",
   "execution_count": 8,
   "metadata": {},
   "outputs": [
    {
     "data": {
      "text/plain": [
       "odict_keys(['module.backbone.conv1.weight', 'module.backbone.bn1.weight', 'module.backbone.bn1.bias', 'module.backbone.bn1.running_mean', 'module.backbone.bn1.running_var', 'module.backbone.bn1.num_batches_tracked', 'module.backbone.layer1.0.conv1.weight', 'module.backbone.layer1.0.bn1.weight', 'module.backbone.layer1.0.bn1.bias', 'module.backbone.layer1.0.bn1.running_mean', 'module.backbone.layer1.0.bn1.running_var', 'module.backbone.layer1.0.bn1.num_batches_tracked', 'module.backbone.layer1.0.conv2.weight', 'module.backbone.layer1.0.bn2.weight', 'module.backbone.layer1.0.bn2.bias', 'module.backbone.layer1.0.bn2.running_mean', 'module.backbone.layer1.0.bn2.running_var', 'module.backbone.layer1.0.bn2.num_batches_tracked', 'module.backbone.layer1.1.conv1.weight', 'module.backbone.layer1.1.bn1.weight', 'module.backbone.layer1.1.bn1.bias', 'module.backbone.layer1.1.bn1.running_mean', 'module.backbone.layer1.1.bn1.running_var', 'module.backbone.layer1.1.bn1.num_batches_tracked', 'module.backbone.layer1.1.conv2.weight', 'module.backbone.layer1.1.bn2.weight', 'module.backbone.layer1.1.bn2.bias', 'module.backbone.layer1.1.bn2.running_mean', 'module.backbone.layer1.1.bn2.running_var', 'module.backbone.layer1.1.bn2.num_batches_tracked', 'module.backbone.layer2.0.conv1.weight', 'module.backbone.layer2.0.bn1.weight', 'module.backbone.layer2.0.bn1.bias', 'module.backbone.layer2.0.bn1.running_mean', 'module.backbone.layer2.0.bn1.running_var', 'module.backbone.layer2.0.bn1.num_batches_tracked', 'module.backbone.layer2.0.conv2.weight', 'module.backbone.layer2.0.bn2.weight', 'module.backbone.layer2.0.bn2.bias', 'module.backbone.layer2.0.bn2.running_mean', 'module.backbone.layer2.0.bn2.running_var', 'module.backbone.layer2.0.bn2.num_batches_tracked', 'module.backbone.layer2.0.downsample.0.weight', 'module.backbone.layer2.0.downsample.1.weight', 'module.backbone.layer2.0.downsample.1.bias', 'module.backbone.layer2.0.downsample.1.running_mean', 'module.backbone.layer2.0.downsample.1.running_var', 'module.backbone.layer2.0.downsample.1.num_batches_tracked', 'module.backbone.layer2.1.conv1.weight', 'module.backbone.layer2.1.bn1.weight', 'module.backbone.layer2.1.bn1.bias', 'module.backbone.layer2.1.bn1.running_mean', 'module.backbone.layer2.1.bn1.running_var', 'module.backbone.layer2.1.bn1.num_batches_tracked', 'module.backbone.layer2.1.conv2.weight', 'module.backbone.layer2.1.bn2.weight', 'module.backbone.layer2.1.bn2.bias', 'module.backbone.layer2.1.bn2.running_mean', 'module.backbone.layer2.1.bn2.running_var', 'module.backbone.layer2.1.bn2.num_batches_tracked', 'module.backbone.layer3.0.conv1.weight', 'module.backbone.layer3.0.bn1.weight', 'module.backbone.layer3.0.bn1.bias', 'module.backbone.layer3.0.bn1.running_mean', 'module.backbone.layer3.0.bn1.running_var', 'module.backbone.layer3.0.bn1.num_batches_tracked', 'module.backbone.layer3.0.conv2.weight', 'module.backbone.layer3.0.bn2.weight', 'module.backbone.layer3.0.bn2.bias', 'module.backbone.layer3.0.bn2.running_mean', 'module.backbone.layer3.0.bn2.running_var', 'module.backbone.layer3.0.bn2.num_batches_tracked', 'module.backbone.layer3.0.downsample.0.weight', 'module.backbone.layer3.0.downsample.1.weight', 'module.backbone.layer3.0.downsample.1.bias', 'module.backbone.layer3.0.downsample.1.running_mean', 'module.backbone.layer3.0.downsample.1.running_var', 'module.backbone.layer3.0.downsample.1.num_batches_tracked', 'module.backbone.layer3.1.conv1.weight', 'module.backbone.layer3.1.bn1.weight', 'module.backbone.layer3.1.bn1.bias', 'module.backbone.layer3.1.bn1.running_mean', 'module.backbone.layer3.1.bn1.running_var', 'module.backbone.layer3.1.bn1.num_batches_tracked', 'module.backbone.layer3.1.conv2.weight', 'module.backbone.layer3.1.bn2.weight', 'module.backbone.layer3.1.bn2.bias', 'module.backbone.layer3.1.bn2.running_mean', 'module.backbone.layer3.1.bn2.running_var', 'module.backbone.layer3.1.bn2.num_batches_tracked', 'module.backbone.layer4.0.conv1.weight', 'module.backbone.layer4.0.bn1.weight', 'module.backbone.layer4.0.bn1.bias', 'module.backbone.layer4.0.bn1.running_mean', 'module.backbone.layer4.0.bn1.running_var', 'module.backbone.layer4.0.bn1.num_batches_tracked', 'module.backbone.layer4.0.conv2.weight', 'module.backbone.layer4.0.bn2.weight', 'module.backbone.layer4.0.bn2.bias', 'module.backbone.layer4.0.bn2.running_mean', 'module.backbone.layer4.0.bn2.running_var', 'module.backbone.layer4.0.bn2.num_batches_tracked', 'module.backbone.layer4.0.downsample.0.weight', 'module.backbone.layer4.0.downsample.1.weight', 'module.backbone.layer4.0.downsample.1.bias', 'module.backbone.layer4.0.downsample.1.running_mean', 'module.backbone.layer4.0.downsample.1.running_var', 'module.backbone.layer4.0.downsample.1.num_batches_tracked', 'module.backbone.layer4.1.conv1.weight', 'module.backbone.layer4.1.bn1.weight', 'module.backbone.layer4.1.bn1.bias', 'module.backbone.layer4.1.bn1.running_mean', 'module.backbone.layer4.1.bn1.running_var', 'module.backbone.layer4.1.bn1.num_batches_tracked', 'module.backbone.layer4.1.conv2.weight', 'module.backbone.layer4.1.bn2.weight', 'module.backbone.layer4.1.bn2.bias', 'module.backbone.layer4.1.bn2.running_mean', 'module.backbone.layer4.1.bn2.running_var', 'module.backbone.layer4.1.bn2.num_batches_tracked', 'module.decoder.layer4.weight', 'module.decoder.layer4.bias', 'module.decoder.layer3.weight', 'module.decoder.layer3.bias', 'module.decoder.layer2.weight', 'module.decoder.layer2.bias', 'module.decoder.layer1.weight', 'module.decoder.layer1.bias'])"
      ]
     },
     "execution_count": 8,
     "metadata": {},
     "output_type": "execute_result"
    }
   ],
   "source": [
    "picie_dict['state_dict'].keys()"
   ]
  },
  {
   "cell_type": "code",
   "execution_count": 9,
   "metadata": {},
   "outputs": [
    {
     "data": {
      "text/plain": [
       "odict_keys(['module.weight', 'module.bias'])"
      ]
     },
     "execution_count": 9,
     "metadata": {},
     "output_type": "execute_result"
    }
   ],
   "source": [
    "picie_dict['classifier1_state_dict'].keys()"
   ]
  },
  {
   "cell_type": "code",
   "execution_count": 3,
   "metadata": {},
   "outputs": [
    {
     "name": "stdout",
     "output_type": "stream",
     "text": [
      "tensor([1.8481e-01, 1.8995e-01, 3.5455e-02, 1.6175e-02, 5.2463e-01, 1.9070e-03,\n",
      "        1.1182e-02, 1.4098e-07, 5.2904e-03, 1.4955e-03, 8.9653e-02, 1.9562e-05,\n",
      "        1.0074e-02, 6.4438e-02, 6.6946e-01, 1.5001e-01, 5.9587e-01, 1.4072e-01,\n",
      "        8.3152e-04, 6.3323e-01, 6.3135e-03, 1.3337e-02, 6.8140e-04, 6.3479e-05,\n",
      "        2.0940e-04, 5.6004e-05, 1.0396e-01])\n"
     ]
    }
   ],
   "source": [
    "import torch\n",
    "histogram = torch.load('/home/zhulifu/unsup_seg/trials_unsupervised_segmentation/gen_files/dino_320_hist.pth')\n",
    "\n",
    "tp = torch.diag(histogram)\n",
    "fp = torch.sum(histogram, dim=0) - tp\n",
    "fn = torch.sum(histogram, dim=1) - tp\n",
    "\n",
    "iou = tp / (tp + fp + fn)\n",
    "print(iou)"
   ]
  }
 ],
 "metadata": {
  "kernelspec": {
   "display_name": "Python 3.8.10 ('stego': venv)",
   "language": "python",
   "name": "python3"
  },
  "language_info": {
   "codemirror_mode": {
    "name": "ipython",
    "version": 3
   },
   "file_extension": ".py",
   "mimetype": "text/x-python",
   "name": "python",
   "nbconvert_exporter": "python",
   "pygments_lexer": "ipython3",
   "version": "3.8.10"
  },
  "orig_nbformat": 4,
  "vscode": {
   "interpreter": {
    "hash": "82916551303e995fefc878a6387f6181e2745391c360037aea37352e198237bf"
   }
  }
 },
 "nbformat": 4,
 "nbformat_minor": 2
}
