{
 "cells": [
  {
   "cell_type": "code",
   "execution_count": null,
   "metadata": {},
   "outputs": [],
   "source": [
    "## get picie and stego hists\n"
   ]
  },
  {
   "cell_type": "code",
   "execution_count": null,
   "metadata": {},
   "outputs": [],
   "source": [
    "import torch \n",
    "stego_path = '/home/zhulifu/unsup_seg/STEGO-master/saved_models/cocostuff27_vit_base_5.ckpt'\n",
    "picie_path = '/home/zhulifu/unsup_seg/STEGO-master/saved_models/picie_coco.pkl'"
   ]
  },
  {
   "cell_type": "code",
   "execution_count": null,
   "metadata": {},
   "outputs": [],
   "source": [
    "stego_dict = torch.load(stego_path, map_location='cuda:1')\n",
    "print(stego_dict.keys())"
   ]
  },
  {
   "cell_type": "code",
   "execution_count": null,
   "metadata": {},
   "outputs": [],
   "source": [
    "stego_dict['state_dict'].keys()"
   ]
  },
  {
   "cell_type": "code",
   "execution_count": null,
   "metadata": {},
   "outputs": [],
   "source": [
    "stego_dict['state_dict']['cluster_probe.clusters'].shape"
   ]
  },
  {
   "cell_type": "code",
   "execution_count": null,
   "metadata": {},
   "outputs": [],
   "source": [
    "stego_dict['hyper_parameters']['cfg']"
   ]
  },
  {
   "cell_type": "code",
   "execution_count": 1,
   "metadata": {},
   "outputs": [
    {
     "name": "stdout",
     "output_type": "stream",
     "text": [
      "loaded state dict from /home/zhulifu/unsup_seg/STEGO-master/saved_models/cocostuff27_vit_base_5.ckpt\n",
      "Since no pretrained weights have been provided, we load the reference pretrained DINO weights.\n"
     ]
    }
   ],
   "source": [
    "## test \n",
    "from modules import stego\n",
    "import os\n",
    "from easydict import EasyDict\n",
    "os.environ['CUDA_VISIBLE_DEVICES'] = '1'\n",
    "model = stego.PanopticFPN(EasyDict({'cityscapes': False}))\n"
   ]
  },
  {
   "cell_type": "code",
   "execution_count": null,
   "metadata": {},
   "outputs": [],
   "source": [
    "picie_dict = torch.load(picie_path, map_location='cuda:1')"
   ]
  },
  {
   "cell_type": "code",
   "execution_count": null,
   "metadata": {},
   "outputs": [],
   "source": [
    "picie_dict.keys()"
   ]
  },
  {
   "cell_type": "code",
   "execution_count": null,
   "metadata": {},
   "outputs": [],
   "source": [
    "picie_dict['state_dict'].keys()"
   ]
  },
  {
   "cell_type": "code",
   "execution_count": null,
   "metadata": {},
   "outputs": [],
   "source": [
    "picie_dict['classifier1_state_dict'].keys()"
   ]
  },
  {
   "cell_type": "code",
   "execution_count": null,
   "metadata": {},
   "outputs": [],
   "source": [
    "import torch\n",
    "histogram = torch.load('/home/zhulifu/unsup_seg/trials_unsupervised_segmentation/gen_files/dino_320_hist.pth')\n",
    "\n",
    "tp = torch.diag(histogram)\n",
    "fp = torch.sum(histogram, dim=0) - tp\n",
    "fn = torch.sum(histogram, dim=1) - tp\n",
    "\n",
    "iou = tp / (tp + fp + fn)\n",
    "print(iou)"
   ]
  }
 ],
 "metadata": {
  "kernelspec": {
   "display_name": "Python 3.8.10 ('stego': venv)",
   "language": "python",
   "name": "python3"
  },
  "language_info": {
   "codemirror_mode": {
    "name": "ipython",
    "version": 3
   },
   "file_extension": ".py",
   "mimetype": "text/x-python",
   "name": "python",
   "nbconvert_exporter": "python",
   "pygments_lexer": "ipython3",
   "version": "3.8.10"
  },
  "orig_nbformat": 4,
  "vscode": {
   "interpreter": {
    "hash": "82916551303e995fefc878a6387f6181e2745391c360037aea37352e198237bf"
   }
  }
 },
 "nbformat": 4,
 "nbformat_minor": 2
}
